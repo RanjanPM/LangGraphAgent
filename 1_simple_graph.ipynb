{
 "cells": [
  {
   "cell_type": "code",
   "execution_count": 19,
   "id": "ea3daaa4",
   "metadata": {},
   "outputs": [],
   "source": [
    "from typing import (TypedDict)\n",
    "class PortfolioState(TypedDict):\n",
    "    amount_usd: float\n",
    "    total_usd: float\n",
    "    total_inr: float\n",
    "    "
   ]
  },
  {
   "cell_type": "code",
   "execution_count": 20,
   "id": "17a22c09",
   "metadata": {},
   "outputs": [],
   "source": [
    "def calc_total(state: PortfolioState) -> PortfolioState:\n",
    "    \"\"\"\n",
    "    Add the interest to the total amount in USD.\n",
    "    \"\"\"\n",
    "    state['total_usd'] = state['amount_usd'] * 1.08 \n",
    "    return state\n",
    "\n",
    "def convert_to_inr(state: PortfolioState) -> PortfolioState:\n",
    "    \"\"\"\n",
    "    Convert the total amount in USD to INR.\n",
    "    \"\"\"\n",
    "    state['total_inr'] = state['total_usd'] * 85.0\n",
    "    return state"
   ]
  },
  {
   "cell_type": "code",
   "execution_count": 21,
   "id": "f75fcabc",
   "metadata": {},
   "outputs": [],
   "source": [
    "from langgraph.graph import StateGraph, START, END\n",
    "\n",
    "builder = StateGraph(PortfolioState)\n",
    "\n",
    "builder.add_node(\"Calc_total_node\",calc_total)\n",
    "builder.add_node(\"Calc_total_inr_node\",convert_to_inr)\n",
    "\n",
    "builder.add_edge(START, \"Calc_total_node\")\n",
    "builder.add_edge(\"Calc_total_node\", \"Calc_total_inr_node\")\n",
    "builder.add_edge(\"Calc_total_inr_node\", END)\n",
    "\n",
    "graph = builder.compile()\n"
   ]
  },
  {
   "cell_type": "code",
   "execution_count": 22,
   "id": "b1b5c236",
   "metadata": {},
   "outputs": [
    {
     "data": {
      "image/png": "[encoded data removed]",
      "text/plain": [
       "<IPython.core.display.Image object>"
      ]
     },
     "metadata": {},
     "output_type": "display_data"
    }
   ],
   "source": [
    "from IPython.display import display, Image\n",
    "\n",
    "display(Image(graph.get_graph().draw_mermaid_png()))"
   ]
  },
  {
   "cell_type": "code",
   "execution_count": 23,
   "id": "c695524d",
   "metadata": {},
   "outputs": [
    {
     "data": {
      "text/plain": [
       "{'amount_usd': 1000.0, 'total_usd': 1080.0, 'total_inr': 91800.0}"
      ]
     },
     "execution_count": 23,
     "metadata": {},
     "output_type": "execute_result"
    }
   ],
   "source": [
    "graph.invoke({\"amount_usd\": 1000.0})"
   ]
  }
 ],
 "metadata": {
  "kernelspec": {
   "display_name": ".venv",
   "language": "python",
   "name": "python3"
  },
  "language_info": {
   "codemirror_mode": {
    "name": "ipython",
    "version": 3
   },
   "file_extension": ".py",
   "mimetype": "text/x-python",
   "name": "python",
   "nbconvert_exporter": "python",
   "pygments_lexer": "ipython3",
   "version": "3.13.5"
  }
 },
 "nbformat": 4,
 "nbformat_minor": 5
}
